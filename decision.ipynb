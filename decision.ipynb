{
  "nbformat": 4,
  "nbformat_minor": 0,
  "metadata": {
    "language_info": {
      "codemirror_mode": {
        "name": "ipython",
        "version": 3
      },
      "file_extension": ".py",
      "mimetype": "text/x-python",
      "name": "python",
      "nbconvert_exporter": "python",
      "pygments_lexer": "ipython3",
      "version": "3.7.3-final"
    },
    "orig_nbformat": 2,
    "kernelspec": {
      "name": "python3",
      "display_name": "Python 3",
      "language": "python"
    },
    "colab": {
      "name": "decision.ipynb",
      "provenance": [],
      "collapsed_sections": [],
      "toc_visible": true,
      "include_colab_link": true
    }
  },
  "cells": [
    {
      "cell_type": "markdown",
      "metadata": {
        "id": "view-in-github",
        "colab_type": "text"
      },
      "source": [
        "<a href=\"https://colab.research.google.com/github/munawwar22HU/CS-351-AI-Project/blob/main/decision.ipynb\" target=\"_parent\"><img src=\"https://colab.research.google.com/assets/colab-badge.svg\" alt=\"Open In Colab\"/></a>"
      ]
    },
    {
      "cell_type": "code",
      "metadata": {
        "id": "PsVdYULA51DT"
      },
      "source": [
        "## For reference, this is the goal to achieve\n",
        "# df = pd.read_csv(\"data.csv\")\n",
        "# train_df, test_df = train_test_split(df, test_size_proportion=0.2)\n",
        "# tree = decision_tree_algorithm(train_df)\n",
        "# accuracy = calculate_accuracy(test_df, tree)"
      ],
      "execution_count": null,
      "outputs": []
    },
    {
      "cell_type": "code",
      "metadata": {
        "id": "WN2ZX15b51Du"
      },
      "source": [
        "## Importing required modules\n",
        " \n",
        "import numpy as np \n",
        "import pandas as pd\n",
        " \n",
        "import matplotlib.pyplot as plt\n",
        "import seaborn as sns\n",
        "%matplotlib inline\n",
        " \n",
        "import random\n",
        "from pprint import pprint\n"
      ],
      "execution_count": 2,
      "outputs": []
    },
    {
      "cell_type": "code",
      "metadata": {
        "id": "sXfSovxA51Dw",
        "colab": {
          "base_uri": "https://localhost:8080/",
          "height": 202
        },
        "outputId": "f539468b-e67c-4251-9a4e-bfc8eb7204b2"
      },
      "source": [
        "df = pd.read_csv(\"/content/HeartData.csv\")\n",
        "df.head()"
      ],
      "execution_count": 6,
      "outputs": [
        {
          "output_type": "execute_result",
          "data": {
            "text/html": [
              "<div>\n",
              "<style scoped>\n",
              "    .dataframe tbody tr th:only-of-type {\n",
              "        vertical-align: middle;\n",
              "    }\n",
              "\n",
              "    .dataframe tbody tr th {\n",
              "        vertical-align: top;\n",
              "    }\n",
              "\n",
              "    .dataframe thead th {\n",
              "        text-align: right;\n",
              "    }\n",
              "</style>\n",
              "<table border=\"1\" class=\"dataframe\">\n",
              "  <thead>\n",
              "    <tr style=\"text-align: right;\">\n",
              "      <th></th>\n",
              "      <th>age</th>\n",
              "      <th>sex</th>\n",
              "      <th>cp</th>\n",
              "      <th>trestbps</th>\n",
              "      <th>chol</th>\n",
              "      <th>fbs</th>\n",
              "      <th>restecg</th>\n",
              "      <th>thalach</th>\n",
              "      <th>exang</th>\n",
              "      <th>oldpeak</th>\n",
              "      <th>slope</th>\n",
              "      <th>ca</th>\n",
              "      <th>thal</th>\n",
              "      <th>label</th>\n",
              "    </tr>\n",
              "  </thead>\n",
              "  <tbody>\n",
              "    <tr>\n",
              "      <th>0</th>\n",
              "      <td>2</td>\n",
              "      <td>1.0</td>\n",
              "      <td>1.0</td>\n",
              "      <td>3</td>\n",
              "      <td>1</td>\n",
              "      <td>1.0</td>\n",
              "      <td>2.0</td>\n",
              "      <td>2</td>\n",
              "      <td>0.0</td>\n",
              "      <td>1</td>\n",
              "      <td>3.0</td>\n",
              "      <td>0.0</td>\n",
              "      <td>6.0</td>\n",
              "      <td>1</td>\n",
              "    </tr>\n",
              "    <tr>\n",
              "      <th>1</th>\n",
              "      <td>2</td>\n",
              "      <td>1.0</td>\n",
              "      <td>4.0</td>\n",
              "      <td>3</td>\n",
              "      <td>1</td>\n",
              "      <td>0.0</td>\n",
              "      <td>2.0</td>\n",
              "      <td>1</td>\n",
              "      <td>1.0</td>\n",
              "      <td>0</td>\n",
              "      <td>2.0</td>\n",
              "      <td>3.0</td>\n",
              "      <td>3.0</td>\n",
              "      <td>0</td>\n",
              "    </tr>\n",
              "    <tr>\n",
              "      <th>2</th>\n",
              "      <td>2</td>\n",
              "      <td>1.0</td>\n",
              "      <td>4.0</td>\n",
              "      <td>1</td>\n",
              "      <td>1</td>\n",
              "      <td>0.0</td>\n",
              "      <td>2.0</td>\n",
              "      <td>1</td>\n",
              "      <td>1.0</td>\n",
              "      <td>1</td>\n",
              "      <td>2.0</td>\n",
              "      <td>2.0</td>\n",
              "      <td>7.0</td>\n",
              "      <td>0</td>\n",
              "    </tr>\n",
              "    <tr>\n",
              "      <th>3</th>\n",
              "      <td>0</td>\n",
              "      <td>1.0</td>\n",
              "      <td>3.0</td>\n",
              "      <td>2</td>\n",
              "      <td>1</td>\n",
              "      <td>0.0</td>\n",
              "      <td>0.0</td>\n",
              "      <td>2</td>\n",
              "      <td>0.0</td>\n",
              "      <td>1</td>\n",
              "      <td>3.0</td>\n",
              "      <td>0.0</td>\n",
              "      <td>3.0</td>\n",
              "      <td>1</td>\n",
              "    </tr>\n",
              "    <tr>\n",
              "      <th>4</th>\n",
              "      <td>1</td>\n",
              "      <td>0.0</td>\n",
              "      <td>2.0</td>\n",
              "      <td>2</td>\n",
              "      <td>1</td>\n",
              "      <td>0.0</td>\n",
              "      <td>2.0</td>\n",
              "      <td>2</td>\n",
              "      <td>0.0</td>\n",
              "      <td>0</td>\n",
              "      <td>1.0</td>\n",
              "      <td>0.0</td>\n",
              "      <td>3.0</td>\n",
              "      <td>1</td>\n",
              "    </tr>\n",
              "  </tbody>\n",
              "</table>\n",
              "</div>"
            ],
            "text/plain": [
              "   age  sex   cp  trestbps  chol  fbs  ...  exang  oldpeak  slope   ca  thal  label\n",
              "0    2  1.0  1.0         3     1  1.0  ...    0.0        1    3.0  0.0   6.0      1\n",
              "1    2  1.0  4.0         3     1  0.0  ...    1.0        0    2.0  3.0   3.0      0\n",
              "2    2  1.0  4.0         1     1  0.0  ...    1.0        1    2.0  2.0   7.0      0\n",
              "3    0  1.0  3.0         2     1  0.0  ...    0.0        1    3.0  0.0   3.0      1\n",
              "4    1  0.0  2.0         2     1  0.0  ...    0.0        0    1.0  0.0   3.0      1\n",
              "\n",
              "[5 rows x 14 columns]"
            ]
          },
          "metadata": {
            "tags": []
          },
          "execution_count": 6
        }
      ]
    },
    {
      "cell_type": "markdown",
      "metadata": {
        "id": "SuBwBYputg2V"
      },
      "source": [
        "\r\n",
        "# Train - Test - Split\r\n"
      ]
    },
    {
      "cell_type": "code",
      "metadata": {
        "id": "aUzpUasz51Dx"
      },
      "source": [
        "## Train-Test-Split\n",
        "def train_test_split(df, test_size):\n",
        "\n",
        "    # this checks whether the test_size is an integer or a proportion (float)\n",
        "    # it is is a float, we convert it to an integer first\n",
        "    if isinstance(test_size, float):\n",
        "        test_size = round(test_size * len(df))\n",
        "\n",
        "    indices = df.index.tolist()\n",
        "    # print(indices)\n",
        "    test_indices = random.sample(population=indices, k=test_size)\n",
        "    test_df = df.loc[test_indices]  # this allows us to access only certain data rows (in this case the test_indices rows)\n",
        "    train_df = df.drop(test_indices) # to remove the test dataframe from the training dataframe\n",
        "    return train_df, test_df"
      ],
      "execution_count": 9,
      "outputs": []
    },
    {
      "cell_type": "code",
      "metadata": {
        "id": "z05-Tigi51Dz"
      },
      "source": [
        "random.seed(0)\n",
        "train_df, test_df = train_test_split(df, test_size=0.3)\n",
        "# test_df.head()"
      ],
      "execution_count": 259,
      "outputs": []
    },
    {
      "cell_type": "code",
      "metadata": {
        "id": "pub8I-SL0ycF",
        "colab": {
          "base_uri": "https://localhost:8080/"
        },
        "outputId": "1c5e3eda-36ac-4ea0-fb60-68427c38f0f4"
      },
      "source": [
        "len(test_df)"
      ],
      "execution_count": 24,
      "outputs": [
        {
          "output_type": "execute_result",
          "data": {
            "text/plain": [
              "60"
            ]
          },
          "metadata": {
            "tags": []
          },
          "execution_count": 24
        }
      ]
    },
    {
      "cell_type": "code",
      "metadata": {
        "colab": {
          "base_uri": "https://localhost:8080/"
        },
        "id": "chYBGM1-M4lJ",
        "outputId": "88615dbf-ab4d-4574-bad9-5761d6c4e67e"
      },
      "source": [
        "len(train_df)"
      ],
      "execution_count": 25,
      "outputs": [
        {
          "output_type": "execute_result",
          "data": {
            "text/plain": [
              "239"
            ]
          },
          "metadata": {
            "tags": []
          },
          "execution_count": 25
        }
      ]
    },
    {
      "cell_type": "markdown",
      "metadata": {
        "id": "eYPp8BXPmEXw"
      },
      "source": [
        "# Check Purity of Data"
      ]
    },
    {
      "cell_type": "code",
      "metadata": {
        "id": "jU5cHfHG51D1"
      },
      "source": [
        "# this function will be used to check the purity of data\n",
        "def check_purity(data):\n",
        "    label_column = data[:, -1] # from the data 2d array, access only the last column (label) of every row\n",
        "    unique_classes = np.unique(label_column) # from label_column, identify and choose all the unique columns\n",
        "    # returns true if the data is pure, that means it contains only one class\n",
        "    if len(unique_classes) == 1:\n",
        "        return True\n",
        "    # otherwise it returns false\n",
        "    else: \n",
        "        return False"
      ],
      "execution_count": 20,
      "outputs": []
    },
    {
      "cell_type": "code",
      "metadata": {
        "colab": {
          "base_uri": "https://localhost:8080/"
        },
        "id": "Ztcb0gf7MfJ-",
        "outputId": "ff951ad7-f068-431c-d195-cc65f6e4eea7"
      },
      "source": [
        "check_purity(train_df.values)"
      ],
      "execution_count": 23,
      "outputs": [
        {
          "output_type": "execute_result",
          "data": {
            "text/plain": [
              "False"
            ]
          },
          "metadata": {
            "tags": []
          },
          "execution_count": 23
        }
      ]
    },
    {
      "cell_type": "markdown",
      "metadata": {
        "id": "2zh33LnVmV18"
      },
      "source": [
        "#Classify Data"
      ]
    },
    {
      "cell_type": "code",
      "metadata": {
        "id": "Td5Na1k451D3"
      },
      "source": [
        "def classify_data(data):\n",
        "    label_column = data[:, -1]\n",
        "    # this returns the unique classes along with the count of how many times each class appears in the data using return_counts\n",
        "    classes, count_classes = np.unique(label_column, return_counts=True)\n",
        "\n",
        "    index = count_classes.argmax()\n",
        "    classification = classes[index]\n",
        "\n",
        "    return classification"
      ],
      "execution_count": 27,
      "outputs": []
    },
    {
      "cell_type": "code",
      "metadata": {
        "colab": {
          "base_uri": "https://localhost:8080/"
        },
        "id": "DtS44BvxNP5W",
        "outputId": "3d670632-2153-45fb-d806-a91ef1970564"
      },
      "source": [
        "classes,count_Classes = np.unique(train_df.label,return_counts=True)\r\n",
        "print(classes)\r\n",
        "print(count_Classes)\r\n",
        "classify_data(train_df.values)\r\n"
      ],
      "execution_count": 29,
      "outputs": [
        {
          "output_type": "stream",
          "text": [
            "[0 1]\n",
            "[113 126]\n"
          ],
          "name": "stdout"
        },
        {
          "output_type": "execute_result",
          "data": {
            "text/plain": [
              "1.0"
            ]
          },
          "metadata": {
            "tags": []
          },
          "execution_count": 29
        }
      ]
    },
    {
      "cell_type": "markdown",
      "metadata": {
        "id": "dSFtEl65mhNs"
      },
      "source": [
        "#Get Potential Splits"
      ]
    },
    {
      "cell_type": "code",
      "metadata": {
        "id": "_Lhefq1051D4"
      },
      "source": [
        "### Potential Splits\n",
        "def get_potential_splits(data):\n",
        "\n",
        "    potential_splits = {}\n",
        "    _, n_columns = data.shape\n",
        "    for column_index in range(n_columns - 1):          # excluding the last column which is the label\n",
        "        values = data[:, column_index]\n",
        "        unique_values = np.unique(values)\n",
        "        \n",
        "        potential_splits[column_index] = unique_values\n",
        "    \n",
        "    return potential_splits\n"
      ],
      "execution_count": 31,
      "outputs": []
    },
    {
      "cell_type": "code",
      "metadata": {
        "colab": {
          "base_uri": "https://localhost:8080/"
        },
        "id": "nc8eTtzXN9tE",
        "outputId": "3a7b30e3-27d8-4edc-9a50-a4ec42ce19d8"
      },
      "source": [
        "potential_splits = get_potential_splits(train_df.values)\r\n",
        "pprint(potential_splits)"
      ],
      "execution_count": 78,
      "outputs": [
        {
          "output_type": "stream",
          "text": [
            "{0: array([0., 1., 2.]),\n",
            " 1: array([0., 1.]),\n",
            " 2: array([1., 2., 3., 4.]),\n",
            " 3: array([0., 1., 2., 3., 4.]),\n",
            " 4: array([0., 1.]),\n",
            " 5: array([0., 1.]),\n",
            " 6: array([0., 1., 2.]),\n",
            " 7: array([0., 1., 2.]),\n",
            " 8: array([0., 1.]),\n",
            " 9: array([0., 1., 2.]),\n",
            " 10: array([1., 2., 3.]),\n",
            " 11: array([0., 1., 2., 3.]),\n",
            " 12: array([3., 6., 7.])}\n"
          ],
          "name": "stdout"
        }
      ]
    },
    {
      "cell_type": "markdown",
      "metadata": {
        "id": "klwEHeUXnWmV"
      },
      "source": [
        "# Split Data"
      ]
    },
    {
      "cell_type": "code",
      "metadata": {
        "id": "OFewqY7x51D6"
      },
      "source": [
        "### Split data\n",
        "def split_data(data, split_column, split_value):\n",
        "\n",
        "    split_column_values = data[:,split_column]\n",
        "    type_of_feature = feature_types[split_column]\n",
        "    if type_of_feature == \"continuous\":\n",
        "      data_below = data[split_column_values<= split_value]\n",
        "      data_above = data[split_column_values>split_value]\n",
        "    else:\n",
        "      data_below = data[split_column_values == split_value]\n",
        "      data_above = data[split_column_values !=split_value]\n",
        "  \n",
        "    return data_below, data_above\n",
        "\n"
      ],
      "execution_count": 40,
      "outputs": []
    },
    {
      "cell_type": "code",
      "metadata": {
        "colab": {
          "base_uri": "https://localhost:8080/"
        },
        "id": "UoD6nrfmRiF2",
        "outputId": "0df200f9-ef39-4088-9260-32be2b1c9326"
      },
      "source": [
        "data_below,data_above = split_data(train_df.values,12,3)\r\n",
        "pprint(np.unique(data_below[:,12]))\r\n",
        "pprint(np.unique(data_above[:,12]))\r\n",
        "pprint(len(data_below))\r\n",
        "pprint(len(data_above))"
      ],
      "execution_count": 156,
      "outputs": [
        {
          "output_type": "stream",
          "text": [
            "array([3.])\n",
            "array([6., 7.])\n",
            "131\n",
            "108\n"
          ],
          "name": "stdout"
        }
      ]
    },
    {
      "cell_type": "code",
      "metadata": {
        "colab": {
          "base_uri": "https://localhost:8080/"
        },
        "id": "kSd-5Ug-THD-",
        "outputId": "75cef344-23e9-4406-bdb6-cb63054f8f18"
      },
      "source": [
        "data_below,data_above = split_data(train_df.values,12,6)\r\n",
        "pprint(np.unique(data_below[:,12]))\r\n",
        "pprint(np.unique(data_above[:,12]))\r\n",
        "pprint(len(data_below))\r\n",
        "pprint(len(data_above))"
      ],
      "execution_count": 154,
      "outputs": [
        {
          "output_type": "stream",
          "text": [
            "array([6.])\n",
            "array([3., 7.])\n",
            "16\n",
            "223\n"
          ],
          "name": "stdout"
        }
      ]
    },
    {
      "cell_type": "markdown",
      "metadata": {
        "id": "M1jWtIOWLAI_"
      },
      "source": [
        "# Lowest Entropy Overall"
      ]
    },
    {
      "cell_type": "code",
      "metadata": {
        "id": "JOFuXnsjLFOw"
      },
      "source": [
        "def calculate_entropy(data):\r\n",
        "  label_column = data[:,-1]\r\n",
        "  _, counts = np.unique (label_column,return_counts = True)\r\n",
        "  #print(counts)\r\n",
        "  probabilities = counts/counts.sum()\r\n",
        "  #print(probabilities)\r\n",
        "  entropy = -sum(probabilities *np.log2(probabilities))\r\n",
        "  #print(entropy)\r\n",
        "  return entropy"
      ],
      "execution_count": 171,
      "outputs": []
    },
    {
      "cell_type": "code",
      "metadata": {
        "id": "APmdvgfOXifE"
      },
      "source": [
        "def calculate_overall_entropy(data_below,data_above):\r\n",
        "    n_data_points = len(data_below)+len(data_above)\r\n",
        "    p_data_below = len(data_below) / n_data_points\r\n",
        "    p_data_above = len(data_above) / n_data_points\r\n",
        "\r\n",
        "    overall_entropy = (p_data_below*calculate_entropy(data_below) + p_data_above * calculate_entropy(data_above))\r\n",
        "\r\n",
        "\r\n",
        "    return overall_entropy"
      ],
      "execution_count": 172,
      "outputs": []
    },
    {
      "cell_type": "code",
      "metadata": {
        "colab": {
          "base_uri": "https://localhost:8080/"
        },
        "id": "In6FGDcgX-i6",
        "outputId": "30717254-be6b-4759-9a94-bc7cf9c1dc39"
      },
      "source": [
        "entropy = calculate_overall_entropy(data_below=data_below,data_above=data_above)\r\n",
        "pprint(entropy)"
      ],
      "execution_count": 173,
      "outputs": [
        {
          "output_type": "stream",
          "text": [
            "0.7923651903808215\n"
          ],
          "name": "stdout"
        }
      ]
    },
    {
      "cell_type": "markdown",
      "metadata": {
        "id": "UFLRQRznyHA1"
      },
      "source": [
        "#Lowest GINI Index value"
      ]
    },
    {
      "cell_type": "code",
      "metadata": {
        "id": "-PNdOS7YwMnn"
      },
      "source": [
        "def calculate_gini(data):\r\n",
        "  label_column = data[:,-1]\r\n",
        "  _,counts = np.unique (label_column,return_counts = True)\r\n",
        "  #print(counts)\r\n",
        "  probabilities = counts/counts.sum()\r\n",
        "  #print(probabilities)\r\n",
        "  gini = 1 - sum(probabilities**2)\r\n",
        "  #print(gini)\r\n",
        "  return gini\r\n"
      ],
      "execution_count": 175,
      "outputs": []
    },
    {
      "cell_type": "code",
      "metadata": {
        "id": "LelvlVDIw7Vm"
      },
      "source": [
        "def calculate_overall_gini(data_below,data_above):\r\n",
        "    n_data_points = len(data_below)+len(data_above)\r\n",
        "    p_data_below = len(data_below) / n_data_points\r\n",
        "    p_data_above = len(data_above) / n_data_points\r\n",
        "\r\n",
        "    overall_gini = (p_data_below*calculate_gini(data_below) + p_data_above * calculate_gini(data_above))\r\n",
        "\r\n",
        "\r\n",
        "    return overall_gini"
      ],
      "execution_count": 176,
      "outputs": []
    },
    {
      "cell_type": "code",
      "metadata": {
        "colab": {
          "base_uri": "https://localhost:8080/"
        },
        "id": "qhBpzN6uwwhj",
        "outputId": "b312cb09-1344-4556-b7c8-bd081df46f70"
      },
      "source": [
        "gini = calculate_overall_gini(data_below=data_below,data_above=data_above)\r\n",
        "pprint(gini)"
      ],
      "execution_count": 177,
      "outputs": [
        {
          "output_type": "stream",
          "text": [
            "0.3631478583249639\n"
          ],
          "name": "stdout"
        }
      ]
    },
    {
      "cell_type": "code",
      "metadata": {
        "id": "Bd7SWvM2YIi9"
      },
      "source": [
        "def determine_best_split(data,potential_splits,use_entropy = True):\r\n",
        "  \r\n",
        "  #potential_splits  = get_potential_splits(data)\r\n",
        "  if (use_entropy == True):\r\n",
        "    overall_entropy = 9999\r\n",
        "    for column_index in potential_splits:\r\n",
        "        for value in potential_splits[column_index]:\r\n",
        "            data_below, data_above = split_data(data, split_column=column_index, split_value=value)\r\n",
        "            current_overall_entropy = calculate_overall_entropy(data_below, data_above)\r\n",
        "            \r\n",
        "            if current_overall_entropy <=overall_entropy:\r\n",
        "                overall_entropy = current_overall_entropy\r\n",
        "                best_split_column = column_index\r\n",
        "                best_split_value = value\r\n",
        "  else:\r\n",
        "    overall_gini = 9999\r\n",
        "    for column_index in potential_splits:\r\n",
        "      for value in potential_splits[column_index]:\r\n",
        "          data_below, data_above = split_data(data, split_column=column_index, split_value=value)\r\n",
        "          current_overall_gini = calculate_overall_gini(data_below, data_above)\r\n",
        "          \r\n",
        "          if current_overall_gini <=overall_gini:\r\n",
        "              overall_gini = current_overall_gini\r\n",
        "              best_split_column = column_index\r\n",
        "              best_split_value = value\r\n",
        "\r\n",
        "\r\n",
        "  return best_split_column,best_split_value"
      ],
      "execution_count": 179,
      "outputs": []
    },
    {
      "cell_type": "code",
      "metadata": {
        "colab": {
          "base_uri": "https://localhost:8080/"
        },
        "id": "amlkY3qqY8iE",
        "outputId": "dac253c1-757b-48cd-8ec3-0df55eefec0d"
      },
      "source": [
        "split_column,split_value = determine_best_split(train_df.values,potential_splits,use_entropy = True)\r\n",
        "pprint(split_column)\r\n",
        "pprint(split_value)\r\n",
        "\r\n"
      ],
      "execution_count": 181,
      "outputs": [
        {
          "output_type": "stream",
          "text": [
            "12\n",
            "3.0\n"
          ],
          "name": "stdout"
        }
      ]
    },
    {
      "cell_type": "markdown",
      "metadata": {
        "id": "KzX5a-rl1wWb"
      },
      "source": [
        "#Determine Type of Feature"
      ]
    },
    {
      "cell_type": "code",
      "metadata": {
        "id": "Kf6vI2hc1v0E"
      },
      "source": [
        "def determine_type_of_feature(df):\r\n",
        "  feature_types = []\r\n",
        "  n_unique_values_threshold = 15\r\n",
        "  for column in df.columns:\r\n",
        "    \r\n",
        "    unique_values = df[column].unique()\r\n",
        "    example_Value = unique_values[0]\r\n",
        "    if (isinstance(example_Value,str) or len(unique_values)<=n_unique_values_threshold):\r\n",
        "      feature_types.append(\"categorical\")\r\n",
        "    else:\r\n",
        "      feature_types.append(\"continuous\")\r\n",
        "  return feature_types"
      ],
      "execution_count": 35,
      "outputs": []
    },
    {
      "cell_type": "code",
      "metadata": {
        "colab": {
          "base_uri": "https://localhost:8080/"
        },
        "id": "BLyWoztFQOwx",
        "outputId": "792a9859-c287-41d7-d5e5-1ae323381bc2"
      },
      "source": [
        "feature_types = determine_type_of_feature(train_df)\r\n",
        "pprint(feature_types)"
      ],
      "execution_count": 37,
      "outputs": [
        {
          "output_type": "stream",
          "text": [
            "['categorical',\n",
            " 'categorical',\n",
            " 'categorical',\n",
            " 'categorical',\n",
            " 'categorical',\n",
            " 'categorical',\n",
            " 'categorical',\n",
            " 'categorical',\n",
            " 'categorical',\n",
            " 'categorical',\n",
            " 'categorical',\n",
            " 'categorical',\n",
            " 'categorical',\n",
            " 'categorical']\n"
          ],
          "name": "stdout"
        }
      ]
    },
    {
      "cell_type": "markdown",
      "metadata": {
        "id": "6rTMC2zLoQUm"
      },
      "source": [
        "# Decision Tree Algorithm\r\n"
      ]
    },
    {
      "cell_type": "code",
      "metadata": {
        "id": "p9YQu3S_qHsU"
      },
      "source": [
        "#sub_tree = {question : [yes_answer,no_answer]}"
      ],
      "execution_count": null,
      "outputs": []
    },
    {
      "cell_type": "code",
      "metadata": {
        "id": "B1tHL3-uqYV2"
      },
      "source": [
        "def decision_tree_algorithm(df,counter = 0,min_samples = 2,max_depth = 5,use_entropy = True ):\r\n",
        "  if counter == 0:\r\n",
        "    global column_headers,feature_types\r\n",
        "    column_headers = df.columns\r\n",
        "    feature_types = determine_type_of_feature(df)\r\n",
        "    data = df.values\r\n",
        "  else:\r\n",
        "    data = df\r\n",
        "  # base case \r\n",
        "  if (check_purity(data) or (len(data)<min_samples) or (counter == max_depth)):\r\n",
        "    classification  = classify_data(data)\r\n",
        "    return classification\r\n",
        "  # recursive part\r\n",
        "  else:\r\n",
        "      counter +=1 \r\n",
        "      potential_splits = get_potential_splits(data)\r\n",
        "      split_column,split_value = determine_best_split(data,potential_splits,use_entropy)\r\n",
        "      data_below, data_above = split_data(data, split_column,split_value)\r\n",
        "      if len(data_below) == 0 or len(data_above) == 0:\r\n",
        "            classification = classify_data(data)\r\n",
        "            return classification\r\n",
        "      # instantiate sub tree\r\n",
        "      feature_name = column_headers[split_column]\r\n",
        "      type_of_feature = feature_types[split_column]\r\n",
        "      if type_of_feature == \"continuous\":\r\n",
        "        question = \"{} <= {}\".format(feature_name,split_value)\r\n",
        "      else:\r\n",
        "        question = \"{} = {}\".format(feature_name,split_value)\r\n",
        "      sub_tree = {question: []}\r\n",
        "\r\n",
        "      # find answers \r\n",
        "      yes_answer  =  decision_tree_algorithm(data_below,counter,min_samples,max_depth)\r\n",
        "      no_answer = decision_tree_algorithm(data_above,counter,min_samples,max_depth)\r\n",
        "\r\n",
        "      if yes_answer == no_answer:\r\n",
        "          sub_tree = yes_answer\r\n",
        "      else:\r\n",
        "        sub_tree[question].append(yes_answer)\r\n",
        "        sub_tree[question].append(no_answer)\r\n",
        "\r\n",
        "      return sub_tree\r\n",
        "\r\n",
        "\r\n"
      ],
      "execution_count": 182,
      "outputs": []
    },
    {
      "cell_type": "markdown",
      "metadata": {
        "id": "3GKcmB8tElDl"
      },
      "source": [
        "# Classification"
      ]
    },
    {
      "cell_type": "code",
      "metadata": {
        "id": "Dd4hg68GEkSg"
      },
      "source": [
        "def classify_example(example,tree):\r\n",
        "  \r\n",
        "  question = list(tree.keys())[0]\r\n",
        "  feature_name,comparision_operator,value = question.split()\r\n",
        "  # ask question\r\n",
        "  if comparision_operator == \"<=\":\r\n",
        "    if example[feature_name]<=float(value):\r\n",
        "      answer =  tree[question][0]\r\n",
        "    else:\r\n",
        "      answer =  tree[question][1]\r\n",
        "  else:\r\n",
        "      if str(example[feature_name])==value:\r\n",
        "        answer =  tree[question][0]\r\n",
        "      else:\r\n",
        "        answer =  tree[question][1]\r\n",
        "\r\n",
        "  # Base Case\r\n",
        "  if not isinstance(answer,dict):\r\n",
        "    return answer\r\n",
        "  # Recursive part\r\n",
        "  else:\r\n",
        "    residual_tree = answer\r\n",
        "    return classify_example(example,residual_tree)\r\n"
      ],
      "execution_count": 112,
      "outputs": []
    },
    {
      "cell_type": "markdown",
      "metadata": {
        "id": "9NBktzObTsGd"
      },
      "source": [
        "# Accuracy\r\n"
      ]
    },
    {
      "cell_type": "code",
      "metadata": {
        "id": "PQPwFs8eTxmD"
      },
      "source": [
        "def evaluate(df,tree):\r\n",
        "  df['classification'] = df.apply(classify_example,axis=1,args=(tree,))\r\n",
        "  df['classification_correct'] = df.classification == df.label\r\n",
        "  classes = np.unique(df.label)\r\n",
        "  n = len(classes)\r\n",
        "  confusion_matrix = np.zeros((n,n))\r\n",
        "  for i in range(n):\r\n",
        "    for j in range(n):\r\n",
        "      confusion_matrix[i][j]= sum(np.logical_and(df.label == classes[i],df.classification== classes[j]))\r\n",
        "  print(\"Confusion Matrix \")\r\n",
        "  pprint(confusion_matrix,width=50)\r\n",
        "  accuracy = df.classification_correct.mean()\r\n",
        "  precision = np.sum(np.diag(confusion_matrix)) / np.sum(np.sum(confusion_matrix, axis = 0))\r\n",
        "  recall = np.diag(confusion_matrix)/ np.sum(confusion_matrix,axis=1)\r\n",
        "  print(\"Accuracy : \",accuracy)\r\n",
        "  print(\"Recall Score Classwise : \" ,recall)\r\n",
        "  print(\"Precision : \",precision)\r\n",
        "  \r\n",
        "\r\n"
      ],
      "execution_count": 244,
      "outputs": []
    },
    {
      "cell_type": "code",
      "metadata": {
        "colab": {
          "base_uri": "https://localhost:8080/",
          "height": 416
        },
        "id": "hPvQpZWRU5FT",
        "outputId": "80689e47-1270-49af-d980-73bd2dd241eb"
      },
      "source": [
        "test_df"
      ],
      "execution_count": 257,
      "outputs": [
        {
          "output_type": "execute_result",
          "data": {
            "text/html": [
              "<div>\n",
              "<style scoped>\n",
              "    .dataframe tbody tr th:only-of-type {\n",
              "        vertical-align: middle;\n",
              "    }\n",
              "\n",
              "    .dataframe tbody tr th {\n",
              "        vertical-align: top;\n",
              "    }\n",
              "\n",
              "    .dataframe thead th {\n",
              "        text-align: right;\n",
              "    }\n",
              "</style>\n",
              "<table border=\"1\" class=\"dataframe\">\n",
              "  <thead>\n",
              "    <tr style=\"text-align: right;\">\n",
              "      <th></th>\n",
              "      <th>age</th>\n",
              "      <th>sex</th>\n",
              "      <th>cp</th>\n",
              "      <th>trestbps</th>\n",
              "      <th>chol</th>\n",
              "      <th>fbs</th>\n",
              "      <th>restecg</th>\n",
              "      <th>thalach</th>\n",
              "      <th>exang</th>\n",
              "      <th>oldpeak</th>\n",
              "      <th>slope</th>\n",
              "      <th>ca</th>\n",
              "      <th>thal</th>\n",
              "      <th>label</th>\n",
              "      <th>classification</th>\n",
              "      <th>classification_correct</th>\n",
              "    </tr>\n",
              "  </thead>\n",
              "  <tbody>\n",
              "    <tr>\n",
              "      <th>160</th>\n",
              "      <td>2</td>\n",
              "      <td>1.0</td>\n",
              "      <td>4.0</td>\n",
              "      <td>1</td>\n",
              "      <td>1</td>\n",
              "      <td>0.0</td>\n",
              "      <td>2.0</td>\n",
              "      <td>2</td>\n",
              "      <td>1.0</td>\n",
              "      <td>0</td>\n",
              "      <td>1.0</td>\n",
              "      <td>3.0</td>\n",
              "      <td>3.0</td>\n",
              "      <td>0</td>\n",
              "      <td>0.0</td>\n",
              "      <td>True</td>\n",
              "    </tr>\n",
              "    <tr>\n",
              "      <th>40</th>\n",
              "      <td>2</td>\n",
              "      <td>0.0</td>\n",
              "      <td>4.0</td>\n",
              "      <td>3</td>\n",
              "      <td>1</td>\n",
              "      <td>0.0</td>\n",
              "      <td>2.0</td>\n",
              "      <td>1</td>\n",
              "      <td>0.0</td>\n",
              "      <td>0</td>\n",
              "      <td>2.0</td>\n",
              "      <td>3.0</td>\n",
              "      <td>7.0</td>\n",
              "      <td>0</td>\n",
              "      <td>0.0</td>\n",
              "      <td>True</td>\n",
              "    </tr>\n",
              "    <tr>\n",
              "      <th>132</th>\n",
              "      <td>1</td>\n",
              "      <td>1.0</td>\n",
              "      <td>4.0</td>\n",
              "      <td>3</td>\n",
              "      <td>1</td>\n",
              "      <td>0.0</td>\n",
              "      <td>2.0</td>\n",
              "      <td>2</td>\n",
              "      <td>1.0</td>\n",
              "      <td>0</td>\n",
              "      <td>1.0</td>\n",
              "      <td>0.0</td>\n",
              "      <td>3.0</td>\n",
              "      <td>1</td>\n",
              "      <td>1.0</td>\n",
              "      <td>True</td>\n",
              "    </tr>\n",
              "    <tr>\n",
              "      <th>70</th>\n",
              "      <td>2</td>\n",
              "      <td>0.0</td>\n",
              "      <td>3.0</td>\n",
              "      <td>3</td>\n",
              "      <td>1</td>\n",
              "      <td>0.0</td>\n",
              "      <td>0.0</td>\n",
              "      <td>1</td>\n",
              "      <td>0.0</td>\n",
              "      <td>0</td>\n",
              "      <td>1.0</td>\n",
              "      <td>0.0</td>\n",
              "      <td>3.0</td>\n",
              "      <td>1</td>\n",
              "      <td>1.0</td>\n",
              "      <td>True</td>\n",
              "    </tr>\n",
              "    <tr>\n",
              "      <th>205</th>\n",
              "      <td>1</td>\n",
              "      <td>1.0</td>\n",
              "      <td>2.0</td>\n",
              "      <td>2</td>\n",
              "      <td>1</td>\n",
              "      <td>0.0</td>\n",
              "      <td>0.0</td>\n",
              "      <td>2</td>\n",
              "      <td>0.0</td>\n",
              "      <td>0</td>\n",
              "      <td>1.0</td>\n",
              "      <td>0.0</td>\n",
              "      <td>3.0</td>\n",
              "      <td>1</td>\n",
              "      <td>1.0</td>\n",
              "      <td>True</td>\n",
              "    </tr>\n",
              "    <tr>\n",
              "      <th>...</th>\n",
              "      <td>...</td>\n",
              "      <td>...</td>\n",
              "      <td>...</td>\n",
              "      <td>...</td>\n",
              "      <td>...</td>\n",
              "      <td>...</td>\n",
              "      <td>...</td>\n",
              "      <td>...</td>\n",
              "      <td>...</td>\n",
              "      <td>...</td>\n",
              "      <td>...</td>\n",
              "      <td>...</td>\n",
              "      <td>...</td>\n",
              "      <td>...</td>\n",
              "      <td>...</td>\n",
              "      <td>...</td>\n",
              "    </tr>\n",
              "    <tr>\n",
              "      <th>60</th>\n",
              "      <td>1</td>\n",
              "      <td>0.0</td>\n",
              "      <td>4.0</td>\n",
              "      <td>2</td>\n",
              "      <td>1</td>\n",
              "      <td>0.0</td>\n",
              "      <td>0.0</td>\n",
              "      <td>1</td>\n",
              "      <td>1.0</td>\n",
              "      <td>0</td>\n",
              "      <td>2.0</td>\n",
              "      <td>0.0</td>\n",
              "      <td>7.0</td>\n",
              "      <td>0</td>\n",
              "      <td>0.0</td>\n",
              "      <td>True</td>\n",
              "    </tr>\n",
              "    <tr>\n",
              "      <th>212</th>\n",
              "      <td>1</td>\n",
              "      <td>1.0</td>\n",
              "      <td>1.0</td>\n",
              "      <td>1</td>\n",
              "      <td>1</td>\n",
              "      <td>0.0</td>\n",
              "      <td>2.0</td>\n",
              "      <td>2</td>\n",
              "      <td>0.0</td>\n",
              "      <td>0</td>\n",
              "      <td>2.0</td>\n",
              "      <td>0.0</td>\n",
              "      <td>7.0</td>\n",
              "      <td>1</td>\n",
              "      <td>0.0</td>\n",
              "      <td>False</td>\n",
              "    </tr>\n",
              "    <tr>\n",
              "      <th>210</th>\n",
              "      <td>2</td>\n",
              "      <td>0.0</td>\n",
              "      <td>4.0</td>\n",
              "      <td>3</td>\n",
              "      <td>1</td>\n",
              "      <td>1.0</td>\n",
              "      <td>0.0</td>\n",
              "      <td>2</td>\n",
              "      <td>1.0</td>\n",
              "      <td>0</td>\n",
              "      <td>2.0</td>\n",
              "      <td>2.0</td>\n",
              "      <td>7.0</td>\n",
              "      <td>0</td>\n",
              "      <td>0.0</td>\n",
              "      <td>True</td>\n",
              "    </tr>\n",
              "    <tr>\n",
              "      <th>252</th>\n",
              "      <td>1</td>\n",
              "      <td>0.0</td>\n",
              "      <td>3.0</td>\n",
              "      <td>1</td>\n",
              "      <td>1</td>\n",
              "      <td>0.0</td>\n",
              "      <td>0.0</td>\n",
              "      <td>2</td>\n",
              "      <td>0.0</td>\n",
              "      <td>0</td>\n",
              "      <td>2.0</td>\n",
              "      <td>0.0</td>\n",
              "      <td>3.0</td>\n",
              "      <td>1</td>\n",
              "      <td>1.0</td>\n",
              "      <td>True</td>\n",
              "    </tr>\n",
              "    <tr>\n",
              "      <th>63</th>\n",
              "      <td>1</td>\n",
              "      <td>0.0</td>\n",
              "      <td>3.0</td>\n",
              "      <td>2</td>\n",
              "      <td>1</td>\n",
              "      <td>1.0</td>\n",
              "      <td>0.0</td>\n",
              "      <td>2</td>\n",
              "      <td>0.0</td>\n",
              "      <td>0</td>\n",
              "      <td>1.0</td>\n",
              "      <td>0.0</td>\n",
              "      <td>3.0</td>\n",
              "      <td>1</td>\n",
              "      <td>1.0</td>\n",
              "      <td>True</td>\n",
              "    </tr>\n",
              "  </tbody>\n",
              "</table>\n",
              "<p>90 rows × 16 columns</p>\n",
              "</div>"
            ],
            "text/plain": [
              "     age  sex   cp  ...  label  classification  classification_correct\n",
              "160    2  1.0  4.0  ...      0             0.0                    True\n",
              "40     2  0.0  4.0  ...      0             0.0                    True\n",
              "132    1  1.0  4.0  ...      1             1.0                    True\n",
              "70     2  0.0  3.0  ...      1             1.0                    True\n",
              "205    1  1.0  2.0  ...      1             1.0                    True\n",
              "..   ...  ...  ...  ...    ...             ...                     ...\n",
              "60     1  0.0  4.0  ...      0             0.0                    True\n",
              "212    1  1.0  1.0  ...      1             0.0                   False\n",
              "210    2  0.0  4.0  ...      0             0.0                    True\n",
              "252    1  0.0  3.0  ...      1             1.0                    True\n",
              "63     1  0.0  3.0  ...      1             1.0                    True\n",
              "\n",
              "[90 rows x 16 columns]"
            ]
          },
          "metadata": {
            "tags": []
          },
          "execution_count": 257
        }
      ]
    },
    {
      "cell_type": "code",
      "metadata": {
        "id": "pN4ATZlXVtKO",
        "colab": {
          "base_uri": "https://localhost:8080/"
        },
        "outputId": "c4c2aa1a-c888-4608-947f-bb052b3adccf"
      },
      "source": [
        "random.seed(0)\r\n",
        "train_df,test_df = train_test_split(df,test_size=0.3)\r\n",
        "tree = decision_tree_algorithm(train_df,max_depth=3,use_entropy=False)\r\n",
        "evaluate(test_df,tree)\r\n",
        "pprint(tree,width=50)"
      ],
      "execution_count": 258,
      "outputs": [
        {
          "output_type": "stream",
          "text": [
            "Confusion Matrix \n",
            "array([[27.,  9.],\n",
            "       [ 5., 49.]])\n",
            "Accuracy :  0.8444444444444444\n",
            "Recall Score Classwise :  [0.75       0.90740741]\n",
            "Precision :  0.8444444444444444\n",
            "{'thal = 3.0': [{'ca = 0.0': [1.0,\n",
            "                              {'cp = 4.0': [0.0,\n",
            "                                            1.0]}]},\n",
            "                {'ca = 0.0': [{'exang = 1.0': [0.0,\n",
            "                                               1.0]},\n",
            "                              0.0]}]}\n"
          ],
          "name": "stdout"
        }
      ]
    }
  ]
}